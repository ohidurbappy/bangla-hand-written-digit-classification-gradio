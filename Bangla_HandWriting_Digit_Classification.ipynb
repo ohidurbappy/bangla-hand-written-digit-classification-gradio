{
 "cells": [
  {
   "cell_type": "code",
   "execution_count": 1,
   "id": "defensive-monday",
   "metadata": {},
   "outputs": [
    {
     "name": "stderr",
     "output_type": "stream",
     "text": [
      "Using TensorFlow backend.\n"
     ]
    }
   ],
   "source": [
    "import warnings\n",
    "warnings.filterwarnings('ignore')\n",
    "import cv2\n",
    "import numpy as np\n",
    "import os\n",
    "import matplotlib.pyplot as plt\n",
    "from sklearn.model_selection import train_test_split\n",
    "from keras.preprocessing.image import ImageDataGenerator\n",
    "from keras.utils.np_utils import to_categorical\n",
    "from keras.models import Sequential\n",
    "from keras.layers import Conv2D, Dense, MaxPooling2D, Activation, Dropout, Flatten\n",
    "from keras.optimizers import Adam\n",
    "\n",
    "path='dataset'\n",
    "images=[]\n",
    "classNo=[]\n",
    "testRatio=0.2\n",
    "valRatio=0.2\n",
    "imgDimension=(32,32,3)"
   ]
  },
  {
   "cell_type": "code",
   "execution_count": 2,
   "id": "attached-textbook",
   "metadata": {},
   "outputs": [
    {
     "name": "stdout",
     "output_type": "stream",
     "text": [
      "Importing Classes..........\n",
      "0\n",
      "1\n",
      "2\n",
      "3\n",
      "4\n",
      "5\n",
      "6\n",
      "7\n",
      "8\n",
      "9\n"
     ]
    }
   ],
   "source": [
    "myList=os.listdir(path)\n",
    "\n",
    "numOfClasses=len(myList)\n",
    "\n",
    "print(\"Importing Classes..........\")\n",
    "for x in range(0, numOfClasses):\n",
    "\tmyPicList=os.listdir(path+\"/\"+str(x))\n",
    "\tfor y in myPicList:\n",
    "\t\tcurImg=cv2.imread(path+\"/\"+str(x)+\"/\"+y)\n",
    "\t\tcurImg=cv2.resize(curImg,(imgDimension[0],imgDimension[1]))\n",
    "\t\timages.append(curImg)\n",
    "\t\tclassNo.append(x)\n",
    "\tprint(x)\n",
    "\n",
    "images=np.array(images)\n",
    "classNo=np.array(classNo)"
   ]
  },
  {
   "cell_type": "code",
   "execution_count": 3,
   "id": "acquired-excuse",
   "metadata": {},
   "outputs": [],
   "source": [
    "x_train, x_test, y_train, y_test=train_test_split(images, classNo, test_size=testRatio)\n",
    "x_train, x_validation, y_train, y_validation=train_test_split(x_train, y_train, test_size=valRatio)"
   ]
  },
  {
   "cell_type": "code",
   "execution_count": 4,
   "id": "persistent-hobby",
   "metadata": {},
   "outputs": [
    {
     "data": {
      "image/png": "[encoded data removed]",
      "text/plain": [
       "<Figure size 720x360 with 1 Axes>"
      ]
     },
     "metadata": {
      "needs_background": "light"
     },
     "output_type": "display_data"
    }
   ],
   "source": [
    "numOfSample=[]\n",
    "\n",
    "for x in range(0,numOfClasses):\n",
    "\tnumOfSample.append(len(np.where(y_train==x)[0]))\n",
    "\n",
    "\n",
    "plt.figure(figsize=(10,5))\n",
    "plt.bar(range(0, numOfClasses),numOfSample)\n",
    "plt.title(\"Bar Plot of Classes & Images\")\n",
    "plt.xlabel(\"No Of Classes\")\n",
    "plt.ylabel(\"No of Images\")\n",
    "plt.show()"
   ]
  },
  {
   "cell_type": "code",
   "execution_count": 5,
   "id": "precious-wiring",
   "metadata": {},
   "outputs": [],
   "source": [
    "def preprocessing(img):\n",
    "\t# img=np.astype(\"uint8\")\n",
    "\timg=cv2.cvtColor(img, cv2.COLOR_BGR2GRAY)\n",
    "\t_, img = cv2.threshold(img, 170, 255, cv2.THRESH_BINARY)\n",
    "\timg=cv2.equalizeHist(img)\n",
    "\timg=img/255\n",
    "\treturn img\n",
    "\n",
    "\n",
    "x_train=np.array(list(map(preprocessing, x_train)))\n",
    "x_test=np.array(list(map(preprocessing, x_test)))\n",
    "x_validation=np.array(list(map(preprocessing, x_validation)))"
   ]
  },
  {
   "cell_type": "code",
   "execution_count": 6,
   "id": "vietnamese-fantasy",
   "metadata": {},
   "outputs": [],
   "source": [
    "x_train=x_train.reshape(x_train.shape[0], x_train.shape[1], x_train.shape[2],1)\n",
    "x_test=x_test.reshape(x_test.shape[0], x_test.shape[1], x_test.shape[2],1)\n",
    "x_validation=x_validation.reshape(x_validation.shape[0], x_validation.shape[1], x_validation.shape[2],1)\n",
    "\n",
    "\n",
    "dataGen=ImageDataGenerator(\n",
    "\twidth_shift_range=0.1,\n",
    "\theight_shift_range=0.1,\n",
    "\tzoom_range=0.2,\n",
    "\tshear_range=0.1,\n",
    "\trotation_range=10)\n",
    "\n",
    "dataGen.fit(x_train)\n",
    "\n",
    "y_train=to_categorical(y_train, numOfClasses)\n",
    "y_test=to_categorical(y_test, numOfClasses)\n",
    "y_validation=to_categorical(y_validation, numOfClasses)"
   ]
  },
  {
   "cell_type": "code",
   "execution_count": 7,
   "id": "significant-advocate",
   "metadata": {},
   "outputs": [
    {
     "name": "stdout",
     "output_type": "stream",
     "text": [
      "_________________________________________________________________\n",
      "Layer (type)                 Output Shape              Param #   \n",
      "=================================================================\n",
      "conv2d_1 (Conv2D)            (None, 28, 28, 60)        1560      \n",
      "_________________________________________________________________\n",
      "conv2d_2 (Conv2D)            (None, 24, 24, 60)        90060     \n",
      "_________________________________________________________________\n",
      "max_pooling2d_1 (MaxPooling2 (None, 12, 12, 60)        0         \n",
      "_________________________________________________________________\n",
      "conv2d_3 (Conv2D)            (None, 10, 10, 30)        16230     \n",
      "_________________________________________________________________\n",
      "conv2d_4 (Conv2D)            (None, 8, 8, 30)          8130      \n",
      "_________________________________________________________________\n",
      "max_pooling2d_2 (MaxPooling2 (None, 4, 4, 30)          0         \n",
      "_________________________________________________________________\n",
      "dropout_1 (Dropout)          (None, 4, 4, 30)          0         \n",
      "_________________________________________________________________\n",
      "flatten_1 (Flatten)          (None, 480)               0         \n",
      "_________________________________________________________________\n",
      "dense_1 (Dense)              (None, 50)                24050     \n",
      "_________________________________________________________________\n",
      "dropout_2 (Dropout)          (None, 50)                0         \n",
      "_________________________________________________________________\n",
      "dense_2 (Dense)              (None, 10)                510       \n",
      "=================================================================\n",
      "Total params: 140,540\n",
      "Trainable params: 140,540\n",
      "Non-trainable params: 0\n",
      "_________________________________________________________________\n",
      "None\n",
      "Epoch 1/5\n",
      "2000/2000 [==============================] - 1992s 996ms/step - loss: 0.7679 - acc: 0.7296 - val_loss: 0.3190 - val_acc: 0.8947\n",
      "Epoch 2/5\n",
      "2000/2000 [==============================] - 1991s 995ms/step - loss: 0.1857 - acc: 0.9405 - val_loss: 0.3696 - val_acc: 0.9211\n",
      "Epoch 3/5\n",
      "2000/2000 [==============================] - 1974s 987ms/step - loss: 0.1140 - acc: 0.9644 - val_loss: 0.2771 - val_acc: 0.9211\n",
      "Epoch 4/5\n",
      "2000/2000 [==============================] - 1959s 979ms/step - loss: 0.0877 - acc: 0.9735 - val_loss: 0.5088 - val_acc: 0.9079\n",
      "Epoch 5/5\n",
      "2000/2000 [==============================] - 1963s 982ms/step - loss: 0.0713 - acc: 0.9792 - val_loss: 0.4305 - val_acc: 0.9079\n"
     ]
    }
   ],
   "source": [
    "def myModel():\n",
    "\tnoOfFilters=60\n",
    "\tsizeOfFilter1=(5,5)\n",
    "\tsizeOfFilter2=(3,3)\n",
    "\tsizeOfPool=(2,2)\n",
    "\tnoOfNode=50\n",
    "\n",
    "\tmodel=Sequential()\n",
    "\tmodel.add((Conv2D(noOfFilters, sizeOfFilter1, input_shape=(imgDimension[0],imgDimension[1],1),activation='relu')))\n",
    "\tmodel.add((Conv2D(noOfFilters, sizeOfFilter1,activation='relu')))\n",
    "\tmodel.add(MaxPooling2D(pool_size=sizeOfPool))\n",
    "\n",
    "\tmodel.add((Conv2D(noOfFilters//2, sizeOfFilter2,activation='relu')))\n",
    "\tmodel.add((Conv2D(noOfFilters//2, sizeOfFilter2,activation='relu')))\n",
    "\tmodel.add(MaxPooling2D(pool_size=sizeOfPool))\n",
    "\tmodel.add(Dropout(0.5))\n",
    "\n",
    "\n",
    "\tmodel.add(Flatten())\n",
    "\tmodel.add(Dense(noOfNode, activation='relu'))\n",
    "\tmodel.add(Dropout(0.5))\n",
    "\tmodel.add(Dense(numOfClasses, activation='softmax'))\n",
    "\tmodel.compile(Adam(lr=0.001),loss='categorical_crossentropy',metrics=['accuracy'])\n",
    "\treturn model\n",
    "\n",
    "model=myModel()\n",
    "print(model.summary())\n",
    "\n",
    "history=model.fit_generator(dataGen.flow(x_train, y_train,batch_size=50),\n",
    "\tsteps_per_epoch=2000,\n",
    "\tepochs=5,\n",
    "\tvalidation_data=(x_validation,y_validation),\n",
    "\tshuffle=1)\n",
    "\n",
    "model.save(\"BanglaModel.h5\")"
   ]
  },
  {
   "cell_type": "code",
   "execution_count": null,
   "id": "sexual-moisture",
   "metadata": {},
   "outputs": [],
   "source": []
  },
  {
   "cell_type": "code",
   "execution_count": null,
   "id": "allied-publication",
   "metadata": {},
   "outputs": [],
   "source": []
  }
 ],
 "metadata": {
  "kernelspec": {
   "display_name": "Python 3",
   "language": "python",
   "name": "python3"
  },
  "language_info": {
   "codemirror_mode": {
    "name": "ipython",
    "version": 3
   },
   "file_extension": ".py",
   "mimetype": "text/x-python",
   "name": "python",
   "nbconvert_exporter": "python",
   "pygments_lexer": "ipython3",
   "version": "3.6.4"
  }
 },
 "nbformat": 4,
 "nbformat_minor": 5
}
